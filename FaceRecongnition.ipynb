{
 "cells": [
  {
   "cell_type": "code",
   "execution_count": 3,
   "metadata": {},
   "outputs": [
    {
     "name": "stderr",
     "output_type": "stream",
     "text": [
      "W rknn-toolkit-lite2 version: 2.3.2\n",
      "W Query dynamic range failed. Ret code: RKNN_ERR_MODEL_INVALID. (If it is a static shape RKNN model, please ignore the above warning message.)\n",
      "W rknn-toolkit-lite2 version: 2.3.2\n",
      "W Query dynamic range failed. Ret code: RKNN_ERR_MODEL_INVALID. (If it is a static shape RKNN model, please ignore the above warning message.)\n"
     ]
    },
    {
     "name": "stdout",
     "output_type": "stream",
     "text": [
      "I RKNN: [19:30:07.926] RKNN Runtime Information, librknnrt version: 2.3.2 (429f97ae6b@2025-04-09T09:09:27)\n",
      "I RKNN: [19:30:07.926] RKNN Driver Information, version: 0.9.8\n",
      "I RKNN: [19:30:07.926] RKNN Model Information, version: 6, toolkit version: 2.3.2(compiler version: 2.3.2 (e045de294f@2025-04-07T19:48:25)), target: RKNPU v2, target platform: rk3588, framework name: ONNX, framework layout: NCHW, model inference type: static_shape\n",
      "W RKNN: [19:30:07.949] query RKNN_QUERY_INPUT_DYNAMIC_RANGE error, rknn model is static shape type, please export rknn with dynamic_shapes\n",
      "I RKNN: [19:30:08.029] RKNN Runtime Information, librknnrt version: 2.3.2 (429f97ae6b@2025-04-09T09:09:27)\n",
      "I RKNN: [19:30:08.029] RKNN Driver Information, version: 0.9.8\n",
      "I RKNN: [19:30:08.029] RKNN Model Information, version: 6, toolkit version: 2.3.2(compiler version: 2.3.2 (e045de294f@2025-04-07T19:48:25)), target: RKNPU v2, target platform: rk3588, framework name: Caffe, framework layout: NCHW, model inference type: static_shape\n",
      "W RKNN: [19:30:08.035] query RKNN_QUERY_INPUT_DYNAMIC_RANGE error, rknn model is static shape type, please export rknn with dynamic_shapes\n",
      "get time : 21.85797691345215ms\n",
      "name: select_sy2_face, match: [False], face_distances : 0.42091313004493713\n",
      "name: select_sy2_face, match: [False], face_distances : 0.42091313004493713\n",
      "name: lin_1, match: [False], face_distances : 0.5657495260238647\n",
      "name: lin_2, match: [False], face_distances : 0.6007199287414551\n",
      "name: lin_3, match: [False], face_distances : 0.35012397170066833\n",
      "name: xu_2, match: [False], face_distances : 0.3720119595527649\n",
      "name: xu_3, match: [ True], face_distances : 0.7239202857017517\n",
      "Person name : xu_3\n"
     ]
    }
   ],
   "source": [
    "import cv2\n",
    "import sys\n",
    "import numpy as np\n",
    "import os\n",
    "import time\n",
    "from embeddings import Embeddings\n",
    "\n",
    "def extract_filename(file_path):\n",
    "    full_filename = os.path.basename(file_path)\n",
    "    filename_without_extension = os.path.splitext(full_filename)[0]\n",
    "    return filename_without_extension\n",
    "\n",
    "if __name__ == '__main__':\n",
    "    image4 = \"./img/xu_1.jpg\"\n",
    "    images = [ \"./img/select_sy2_face.jpg\", \"./img/select_sy2_face.jpg\", \"./img/lin_1.jpg\", \"./img/lin_2.jpg\", \"./img/lin_3.jpg\", \"./img/xu_2.jpg\", \"./img/xu_3.jpg\"]\n",
    "    path=os.getcwd()\n",
    "\n",
    "    embeddings = Embeddings('./RetinaFace_mobile320_i8_v2.3.2.rknn', './rk3588_mobilefacenet/mobilefacenet_v2.3.2.rknn')\n",
    "    img1 = cv2.imread(image4)\n",
    "    start_time = time.time()\n",
    "    get_face1 = embeddings.get_embeddings(img1)\n",
    "    feature1 = get_face1[0]['embedding']\n",
    "    print( f'get time : {(time.time() - start_time)*1000}ms')\n",
    "\n",
    "    detect_list = []\n",
    "    for j in range(len(images)):\n",
    "        img2 = cv2.imread(images[j])\n",
    "        get_face2 = embeddings.get_embeddings(img2)\n",
    "        personname = extract_filename(images[j])\n",
    "        for i in range(len(get_face2)):\n",
    "            feature2 = get_face2[i]['embedding']\n",
    "            match, cosine_similarity = embeddings.compare_face(feature1, feature2)\n",
    "            print( f'name: {personname}, match: {match}, face_distances : {cosine_similarity[0]}'  )\n",
    "            if match == [True]:\n",
    "                detect_list.append([j,i,cosine_similarity[0] ])\n",
    "\n",
    "    if len(detect_list)>0 :\n",
    "        max_value = max(detect_list, key=lambda x: x[2])[0]\n",
    "        file_path = images[max_value]\n",
    "        # Extract only the file name\n",
    "        personname = extract_filename(file_path)\n",
    "        print(\"Person name :\", personname)\n",
    "    else:\n",
    "        print( \"Unkown!!\")\n"
   ]
  }
 ],
 "metadata": {
  "kernelspec": {
   "display_name": "rknnlite",
   "language": "python",
   "name": "python3"
  },
  "language_info": {
   "codemirror_mode": {
    "name": "ipython",
    "version": 3
   },
   "file_extension": ".py",
   "mimetype": "text/x-python",
   "name": "python",
   "nbconvert_exporter": "python",
   "pygments_lexer": "ipython3",
   "version": "3.12.11"
  }
 },
 "nbformat": 4,
 "nbformat_minor": 2
}
