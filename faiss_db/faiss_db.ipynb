{
 "cells": [
  {
   "cell_type": "code",
   "execution_count": 8,
   "id": "9168d190",
   "metadata": {},
   "outputs": [
    {
     "name": "stdout",
     "output_type": "stream",
     "text": [
      "새로운 FaceFaissDB를 생성합니다.\n",
      "<class 'numpy.ndarray'>\n",
      "추가됨: personX\n",
      "자동 저장 완료 ✅\n",
      "personX\n"
     ]
    }
   ],
   "source": [
    "import numpy as np\n",
    "from face_faiss_db import FaceFaissDB\n",
    "\n",
    "# MobileFaceNet embedding 512-D vector 사용한다고 가정\n",
    "db = FaceFaissDB(dim=128, db_path=\"facefaiss.index\")\n",
    "\n",
    "# 등록\n",
    "new_emb = np.random.rand(128).astype('float32')\n",
    "print( type(new_emb) )\n",
    "db.add(\"personX\", new_emb)\n",
    "\n",
    "# 검색\n",
    "query_emb = new_emb + np.random.normal(0, 0.01, 128).astype('float32')\n",
    "result = db.search(query_emb, topk=1)\n",
    "print(result[0]['name'])\n"
   ]
  }
 ],
 "metadata": {
  "kernelspec": {
   "display_name": "pyside6rknn",
   "language": "python",
   "name": "python3"
  },
  "language_info": {
   "codemirror_mode": {
    "name": "ipython",
    "version": 3
   },
   "file_extension": ".py",
   "mimetype": "text/x-python",
   "name": "python",
   "nbconvert_exporter": "python",
   "pygments_lexer": "ipython3",
   "version": "3.12.11"
  }
 },
 "nbformat": 4,
 "nbformat_minor": 5
}
